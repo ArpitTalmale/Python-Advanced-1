{
 "cells": [
  {
   "cell_type": "markdown",
   "id": "173b088b",
   "metadata": {},
   "source": [
    "### Q1. What is the purpose of Python's OOP?"
   ]
  },
  {
   "cell_type": "markdown",
   "id": "3092852b",
   "metadata": {},
   "source": [
    "Answer:- Object-oriented programming is a programming paradigm that provides a means of structuring programs so that       properties and behaviors are bundled into individual objects and we can use it again and again in future.\n",
    "\n",
    "Some Benefits of using OOPS:-\n",
    "1> \"In Python, object-oriented Programming (OOPs) uses objects and classes in programming.\n",
    "2> The main concept of OOPs is to bind the data and the functions that work on that together as a single unit so that no other part of the code can access this data.\n",
    "3> It aims to implement real-world entities like inheritance, polymorphisms, encapsulation, etc. in the programming.\n",
    "4> By using OOPS concept we can use our code again and again.\n",
    "5> Helps in easy maintenance and modification of existing program."
   ]
  },
  {
   "cell_type": "markdown",
   "id": "5b77c6d3",
   "metadata": {},
   "source": [
    "### Q2. Where does an inheritance search look for an attribute? "
   ]
  },
  {
   "cell_type": "markdown",
   "id": "5f017401",
   "metadata": {},
   "source": [
    "Answer:- Python searches for an attribute in an upward tree of attributes. it first searches for the attribute in its instance and then looks in the class it is generated from, to all super classes listed in its class header."
   ]
  },
  {
   "cell_type": "markdown",
   "id": "c75acb9c",
   "metadata": {},
   "source": [
    "### Q3. How do you distinguish between a class object and an instance object?"
   ]
  },
  {
   "cell_type": "markdown",
   "id": "260ba9a5",
   "metadata": {},
   "source": [
    "Answer:- The differences between a class object and an instance object are:\n",
    "        \n",
    "        1> Class is a template or blueprint to create a object whereas object is an instance of class.\n",
    "        2> For Class separate memory is not allocated but for object a separate memory is allocated.\n",
    "        3> A Class is created once and many objects are created using a class.\n",
    "        4>  Class cannot be manipulated because their is no separate memory but object can be manipulated."
   ]
  },
  {
   "cell_type": "markdown",
   "id": "771101a0",
   "metadata": {},
   "source": [
    "### Q4. What makes the first argument in a class’s method function special?"
   ]
  },
  {
   "cell_type": "markdown",
   "id": "e99ae2a6",
   "metadata": {},
   "source": [
    "Answer:- Python Classes usually have three types of methods which are:\n",
    "        \n",
    "        1> class method (class level methods).\n",
    "        2> Static Methods (general utility methods).\n",
    "        3> Instance Methods (object level methods).\n",
    "        4> self is a reference variable which is pointing to current object.\n",
    "        5> cls is the first argument for class methods which refers to the class itself."
   ]
  },
  {
   "cell_type": "markdown",
   "id": "b7ad687c",
   "metadata": {},
   "source": [
    "###  Q5. What is the purpose of the init method?"
   ]
  },
  {
   "cell_type": "markdown",
   "id": "a5e3f99e",
   "metadata": {},
   "source": [
    "Answer:- __init__(self) is a constructor, which is a special method in python. It will executed automatically at the time of object creation.This method is called when an object is created from a class and it allows the class to initialize the attributes of the class."
   ]
  },
  {
   "cell_type": "markdown",
   "id": "90c34c83",
   "metadata": {},
   "source": [
    "###  Q6. What is the process for creating a class instance?"
   ]
  },
  {
   "cell_type": "markdown",
   "id": "12daebfa",
   "metadata": {},
   "source": [
    "Answer:-  To create a class instance, we need to call the class by its name and pass the arguments to the class, which its init method accepts.\n",
    "\n",
    "like, species = my_class(\"Parrot\"), Here species is an instance of class my_class with attributes \"Parrot\"."
   ]
  },
  {
   "cell_type": "markdown",
   "id": "24a98e2b",
   "metadata": {},
   "source": [
    "###  Q7. What is the process for creating a class?"
   ]
  },
  {
   "cell_type": "markdown",
   "id": "cd0e0eca",
   "metadata": {},
   "source": [
    "Answer:- By using a class keyword we can create a class.The syntax to create a class in python is class <classname>:\n",
    "    Like:- class Bird: # Here we create a class called Bird."
   ]
  },
  {
   "cell_type": "markdown",
   "id": "e68e8995",
   "metadata": {},
   "source": [
    "###  Q8. How would you define the superclasses of a class?"
   ]
  },
  {
   "cell_type": "markdown",
   "id": "9e6e0615",
   "metadata": {},
   "source": [
    "Answer:- Superclass/Parent class is given as a arugment to the child class.\n",
    "\n",
    "like:- class Parrot(Bird): #Here child class Parrot inherits attributes and methods from Superclass/Parent which is Bird."
   ]
  }
 ],
 "metadata": {
  "kernelspec": {
   "display_name": "Python 3 (ipykernel)",
   "language": "python",
   "name": "python3"
  },
  "language_info": {
   "codemirror_mode": {
    "name": "ipython",
    "version": 3
   },
   "file_extension": ".py",
   "mimetype": "text/x-python",
   "name": "python",
   "nbconvert_exporter": "python",
   "pygments_lexer": "ipython3",
   "version": "3.10.9"
  }
 },
 "nbformat": 4,
 "nbformat_minor": 5
}
